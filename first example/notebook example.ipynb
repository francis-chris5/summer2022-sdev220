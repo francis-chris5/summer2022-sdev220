{
 "cells": [
  {
   "cell_type": "markdown",
   "id": "9b271357",
   "metadata": {},
   "source": [
    "<h1>First Example</h1>\n",
    "<p>this is a <u>markdown cell</u></p>\n",
    "and some regular text"
   ]
  },
  {
   "cell_type": "code",
   "execution_count": 5,
   "id": "44c6f359",
   "metadata": {},
   "outputs": [
    {
     "name": "stdout",
     "output_type": "stream",
     "text": [
      "hello world this is a rather trivial example to look at notebooks\n"
     ]
    }
   ],
   "source": [
    "print(\"hello world this is a rather trivial example to look at notebooks\")"
   ]
  },
  {
   "cell_type": "code",
   "execution_count": 7,
   "id": "3debfd90",
   "metadata": {},
   "outputs": [
    {
     "name": "stdout",
     "output_type": "stream",
     "text": [
      "The product of 0.697428062958735 and 0.42691076622993074 is 0.29773954874796993.\n"
     ]
    }
   ],
   "source": [
    "import random\n",
    "x = random.random()\n",
    "y = random.random()\n",
    "product = x * y\n",
    "print(f\"The product of {x} and {y} is {product}.\")"
   ]
  },
  {
   "cell_type": "code",
   "execution_count": null,
   "id": "0d745007",
   "metadata": {},
   "outputs": [],
   "source": []
  },
  {
   "cell_type": "markdown",
   "id": "b50d35e9",
   "metadata": {},
   "source": [
    "another markdown cell here at the end"
   ]
  }
 ],
 "metadata": {
  "kernelspec": {
   "display_name": "Python 3 (ipykernel)",
   "language": "python",
   "name": "python3"
  },
  "language_info": {
   "codemirror_mode": {
    "name": "ipython",
    "version": 3
   },
   "file_extension": ".py",
   "mimetype": "text/x-python",
   "name": "python",
   "nbconvert_exporter": "python",
   "pygments_lexer": "ipython3",
   "version": "3.10.2"
  }
 },
 "nbformat": 4,
 "nbformat_minor": 5
}
